{
 "cells": [
  {
   "cell_type": "code",
   "execution_count": 1,
   "id": "e8b164cd-a97d-4093-964b-12f77a3628a2",
   "metadata": {},
   "outputs": [],
   "source": [
    "import requests\n",
    "import pandas as pd \n",
    "from bs4 import BeautifulSoup"
   ]
  },
  {
   "cell_type": "code",
   "execution_count": 6,
   "id": "96e01844-1842-43d2-9531-bc241e2140c5",
   "metadata": {},
   "outputs": [
    {
     "name": "stdout",
     "output_type": "stream",
     "text": [
      "0    4000\n",
      "Name: Min Ram, dtype: int64 0    64\n",
      "Name: Max Ram, dtype: int64\n"
     ]
    }
   ],
   "source": [
    "#Define the path to the Excel file\n",
    "path = r\"C:\\Users\\B.Pashazanosi\\Desktop\\Project\\Goldiran Media\\GSM\\Q20 Spec.xlsx\"\n",
    "\n",
    "# Read the Excel file into a DataFrame\n",
    "df = pd.read_excel(path, sheet_name='Sheet1')\n",
    "\n",
    "# Extract 'Min Ram' and 'Max Ram' columns from the DataFrame\n",
    "min_ram = df[\"Min Ram\"]\n",
    "max_ram = df[\"Max Ram\"]\n",
    "\n",
    "print(min_ram,max_ram)\n"
   ]
  },
  {
   "cell_type": "code",
   "execution_count": null,
   "id": "fe634e30-27f2-45ad-9104-f486219c5718",
   "metadata": {},
   "outputs": [],
   "source": [
    "# Loop through each pair of 'Min Ram' and 'Max Ram'\n",
    "for minRam, maxRam in zip(min_ram, max_ram):\n",
    "    \n",
    "    # Construct the URL with the values\n",
    "    url = base_url.format(minRam, maxRam)\n",
    "    \n",
    "    # Send a GET request to the URL\n",
    "    response = requests.get(url)\n",
    "    \n",
    "    # Parse the HTML content using BeautifulSoup\n",
    "    soup = BeautifulSoup(response.content, \"html.parser\")\n",
    "    \n",
    "    # Find all product div elements with class \"makers\"\n",
    "    products = soup.find_all(\"div\", class_=\"makers\")\n",
    "    \n",
    "    # Loop through each product div element\n",
    "    for images in products:\n",
    "        img_tags = images.find_all(\"img\")\n",
    "        \n",
    "        # Loop through each img tag to extract product information\n",
    "        for titles in img_tags:\n",
    "            title = titles.get(\"title\")\n",
    "            split_values = title.split(\",\")\n",
    "            row_data = {}\n",
    "            \n",
    "            # Loop through each value in split_values\n",
    "            for value in split_values:\n",
    "                if \".\" and \"smartphone\" in value:\n",
    "                    phone_name = value.split(\".\")[0].strip()\n",
    "                    row_data[\"Brand\"] = phone_name.split(\" \", 1)[0]\n",
    "                    row_data[\"Phone Model\"] = phone_name\n",
    "                if \"chipset\" in value.lower():\n",
    "                    row_data[\"Chipset\"] = value.strip()\n",
    "                if \"battery\" in value.lower():\n",
    "                    row_data['Battery'] = value.strip()\n",
    "                if \"storage\" in value.lower():\n",
    "                    row_data['Storage'] = value.strip()\n",
    "                if \"ram\" in value.lower():\n",
    "                    row_data['Ram'] = value.strip()\n",
    "                if \"display\" in value.lower():\n",
    "                    display_value = value.strip()\n",
    "                    if \".\" in display_value:\n",
    "                        display_words = display_value.split(\".\")[2:]\n",
    "                        row_data['Display'] = \" \".join(display_words)\n",
    "                    else:\n",
    "                        row_data['Display'] = display_value\n",
    "            \n",
    "            # Append the row_data to the result DataFrame\n",
    "            df_result = df_result.append(row_data, ignore_index=True)\n",
    "            print(df_result)\n"
   ]
  },
  {
   "cell_type": "code",
   "execution_count": null,
   "id": "54c64590-33ca-442d-9ae8-8c774d616fd8",
   "metadata": {},
   "outputs": [],
   "source": [
    "# Save the result DataFrame to an Excel file\n",
    "df_result.to_excel(\"Output.xlsx\", index=False)"
   ]
  }
 ],
 "metadata": {
  "kernelspec": {
   "display_name": "Python 3 (ipykernel)",
   "language": "python",
   "name": "python3"
  },
  "language_info": {
   "codemirror_mode": {
    "name": "ipython",
    "version": 3
   },
   "file_extension": ".py",
   "mimetype": "text/x-python",
   "name": "python",
   "nbconvert_exporter": "python",
   "pygments_lexer": "ipython3",
   "version": "3.10.9"
  }
 },
 "nbformat": 4,
 "nbformat_minor": 5
}
